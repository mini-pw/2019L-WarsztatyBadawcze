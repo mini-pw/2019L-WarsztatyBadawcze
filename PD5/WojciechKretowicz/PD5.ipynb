{
 "cells": [
  {
   "cell_type": "markdown",
   "metadata": {},
   "source": [
    "# Praca domowa nr 5\n",
    "## Przewidywanie jakości modelu na podstawie jego metadanych"
   ]
  },
  {
   "cell_type": "code",
   "execution_count": 527,
   "metadata": {},
   "outputs": [],
   "source": [
    "import numpy as np\n",
    "import pandas as pd\n",
    "import json\n",
    "import os\n",
    "import time\n",
    "import seaborn as sns\n",
    "import matplotlib.pyplot as plt\n",
    "from sklearn.linear_model import LinearRegression\n",
    "from sklearn.model_selection import train_test_split\n",
    "from sklearn.preprocessing import OneHotEncoder\n",
    "from sklearn.metrics import mean_squared_error, mean_absolute_error, r2_score\n",
    "from sklearn.neural_network import MLPRegressor\n",
    "\n",
    "import warnings\n",
    "warnings.filterwarnings('ignore')\n",
    "\n",
    "plt.rcParams['figure.figsize'] = [15, 10]"
   ]
  },
  {
   "cell_type": "code",
   "execution_count": 528,
   "metadata": {},
   "outputs": [],
   "source": [
    "def metrics(y_test, y_pred):\n",
    "    print(\"MSE: \",mean_squared_error(y_test, y_pred))\n",
    "    print(\"MAE: \",mean_absolute_error(y_test, y_pred))\n",
    "    print(\"R2: \",r2_score(y_test, y_pred))"
   ]
  },
  {
   "cell_type": "code",
   "execution_count": 529,
   "metadata": {},
   "outputs": [],
   "source": [
    "def preprocess(X,Y,metric):\n",
    "    y = Y[metric]\n",
    "    X1 = X.loc[~y.isna(),:]\n",
    "    y = y[~y.isna()]\n",
    "    return train_test_split(X1,y)"
   ]
  },
  {
   "cell_type": "code",
   "execution_count": 530,
   "metadata": {},
   "outputs": [],
   "source": [
    "def test_model(X,Y,metric,classifier):\n",
    "    X_train, X_test, y_train, y_test = preprocess(X,Y,metric)\n",
    "    clf = classifier()\n",
    "    clf.fit(X_train, y_train)\n",
    "    \n",
    "    print(\"Zbiór uczący:\")\n",
    "    metrics(y_train, clf.predict(X_train))\n",
    "    print(\"\\n\")\n",
    "    print(\"Zbiór testowy:\")\n",
    "    metrics(y_test, clf.predict(X_test))"
   ]
  },
  {
   "cell_type": "code",
   "execution_count": 531,
   "metadata": {},
   "outputs": [],
   "source": [
    "def create_data_frame(param=False):\n",
    "    path = \"C:\\\\Users\\\\Admin\\\\Desktop\\\\Studia\\\\Warsztaty badawcze\\\\2019L-WarsztatyBadawcze\\\\\"\n",
    "    df = pd.DataFrame()\n",
    "    for dataset in os.listdir(path+\"models\"):\n",
    "        if os.path.isdir(path+\"models\\\\\"+dataset) and not dataset.startswith(\".\"):\n",
    "            for task in os.listdir(path+\"models\\\\\"+dataset):\n",
    "                if os.path.isdir(path+\"models\\\\\"+dataset+\"\\\\\"+task) and not task.startswith(\".\"):\n",
    "                    with open(path+\"models\\\\\"+dataset+\"\\\\\"+\"dataset.json\", 'r', encoding='utf-8') as f:\n",
    "\n",
    "                        dataset_info = json.load(f)\n",
    "                        dataset_info = dict([(key, dataset_info[0][key]) for key in \n",
    "                                             ['number_of_features',\n",
    "                                              'number_of_instances',\n",
    "                                              'number_of_missing_values',\n",
    "                                              'number_of_instances_with_missing_values']])\n",
    "                        if not task.startswith(\"classification\"):\n",
    "                            continue\n",
    "                        for model in os.listdir(path+\"models\\\\\"+dataset+\"\\\\\"+task):\n",
    "                            try:\n",
    "                                if os.path.isdir(path+\"models\\\\\"+dataset+\"\\\\\"+task+\"\\\\\"+model):\n",
    "                                    with open(path+\"models\\\\\"+dataset+\"\\\\\"+task+\"\\\\\"+model+\"\\\\audit.json\") as fa:\n",
    "                                        audit_info_tmp = json.load(fa)\n",
    "                                        audit_info = dict([(metrics, audit_info_tmp[0]['performance'][metrics]) \n",
    "                                                           for metrics in ['acc', \n",
    "                                                                           'auc',\n",
    "                                                                           'specificity',\n",
    "                                                                           'recall', \n",
    "                                                                           'precision',\n",
    "                                                                           'f1']])\n",
    "                                        audit_info['added_by'] = audit_info_tmp[0]['added_by']\n",
    "                                    with open(path+\"models\\\\\"+dataset+\"\\\\\"+task+\"\\\\\"+model+\"\\\\model.json\") as fm:\n",
    "                                        model_info_tmp = json.load(fm)\n",
    "                                        model_info = dict([(key, model_info_tmp[0][key]) \n",
    "                                                          for key in ['library',\n",
    "                                                                      'model_name']])\n",
    "                                    \n",
    "                                    if param:\n",
    "                                        model_param = dict([(param, model_info_tmp[0]['parameters'][param]) for param in\n",
    "                                        ['num.trees']])\n",
    "                                    \n",
    "\n",
    "                                    model = dataset_info\n",
    "                                    model.update(audit_info)\n",
    "                                    model.update(model_info)\n",
    "                                    \n",
    "                                    if param:\n",
    "                                        model.update(model_param)\n",
    "                                    \n",
    "                                    model = pd.DataFrame.from_dict(model, orient='index').T\n",
    "                                    df = df.append(model)\n",
    "                            except:\n",
    "                                continue\n",
    "    return df.reset_index(drop='index')"
   ]
  },
  {
   "cell_type": "code",
   "execution_count": 532,
   "metadata": {},
   "outputs": [],
   "source": [
    "df = create_data_frame(False)"
   ]
  },
  {
   "cell_type": "code",
   "execution_count": 533,
   "metadata": {
    "scrolled": false
   },
   "outputs": [
    {
     "data": {
      "image/png": "[encoded data removed]",
      "text/plain": [
       "<Figure size 1080x720 with 1 Axes>"
      ]
     },
     "metadata": {
      "needs_background": "light"
     },
     "output_type": "display_data"
    }
   ],
   "source": [
    "sns.barplot(np.sort(df.library.unique()),df.groupby('library').size())\n",
    "plt.show()"
   ]
  },
  {
   "cell_type": "code",
   "execution_count": 534,
   "metadata": {},
   "outputs": [
    {
     "data": {
      "image/png": "[encoded data removed]",
      "text/plain": [
       "<Figure size 1080x720 with 1 Axes>"
      ]
     },
     "metadata": {
      "needs_background": "light"
     },
     "output_type": "display_data"
    }
   ],
   "source": [
    "sns.barplot(df.groupby('model_name').size().nlargest(10).index,df.groupby('model_name').size().nlargest(10))\n",
    "plt.xticks(rotation=90)\n",
    "plt.show()"
   ]
  },
  {
   "cell_type": "markdown",
   "metadata": {},
   "source": [
    "# Preprocessing"
   ]
  },
  {
   "cell_type": "code",
   "execution_count": 535,
   "metadata": {
    "scrolled": true
   },
   "outputs": [
    {
     "data": {
      "text/plain": [
       "(281, 13)"
      ]
     },
     "execution_count": 535,
     "metadata": {},
     "output_type": "execute_result"
    }
   ],
   "source": [
    "df.shape"
   ]
  },
  {
   "cell_type": "code",
   "execution_count": 536,
   "metadata": {},
   "outputs": [],
   "source": [
    "X = df.drop(columns=['acc','auc','specificity','recall','precision','f1'])\n",
    "Y = df.loc[:,['acc','auc','specificity','recall','precision','f1']]"
   ]
  },
  {
   "cell_type": "markdown",
   "metadata": {},
   "source": [
    "## One Hot Encoding"
   ]
  },
  {
   "cell_type": "code",
   "execution_count": 537,
   "metadata": {},
   "outputs": [],
   "source": [
    "X=pd.get_dummies(X, columns=['added_by','library','model_name'])"
   ]
  },
  {
   "cell_type": "markdown",
   "metadata": {},
   "source": [
    "# Model"
   ]
  },
  {
   "cell_type": "markdown",
   "metadata": {},
   "source": [
    "## ACC"
   ]
  },
  {
   "cell_type": "code",
   "execution_count": 538,
   "metadata": {
    "scrolled": true
   },
   "outputs": [
    {
     "name": "stdout",
     "output_type": "stream",
     "text": [
      "Zbiór uczący:\n",
      "MSE:  0.004217045855670847\n",
      "MAE:  0.038890601841750555\n",
      "R2:  0.8517165684871706\n",
      "\n",
      "\n",
      "Zbiór testowy:\n",
      "MSE:  0.018459261547048963\n",
      "MAE:  0.0768142294210789\n",
      "R2:  0.4112027165769\n"
     ]
    }
   ],
   "source": [
    "test_model(X,Y,'acc',LinearRegression)"
   ]
  },
  {
   "cell_type": "code",
   "execution_count": 539,
   "metadata": {},
   "outputs": [
    {
     "name": "stdout",
     "output_type": "stream",
     "text": [
      "Zbiór uczący:\n",
      "MSE:  148011.6161244819\n",
      "MAE:  88.22295978680413\n",
      "R2:  -4440026.79361184\n",
      "\n",
      "\n",
      "Zbiór testowy:\n",
      "MSE:  220729.7713619776\n",
      "MAE:  116.53370302389848\n",
      "R2:  -14493223.341494326\n"
     ]
    }
   ],
   "source": [
    "test_model(X,Y,'acc',MLPRegressor)"
   ]
  },
  {
   "cell_type": "markdown",
   "metadata": {},
   "source": [
    "## AUC"
   ]
  },
  {
   "cell_type": "code",
   "execution_count": 540,
   "metadata": {
    "scrolled": true
   },
   "outputs": [
    {
     "name": "stdout",
     "output_type": "stream",
     "text": [
      "Zbiór uczący:\n",
      "MSE:  0.000587919856112725\n",
      "MAE:  0.014781236577307495\n",
      "R2:  0.9552048563621407\n",
      "\n",
      "\n",
      "Zbiór testowy:\n",
      "MSE:  1.7844965977807754\n",
      "MAE:  0.5465992683674119\n",
      "R2:  -169.00956327905166\n"
     ]
    }
   ],
   "source": [
    "test_model(X,Y,'auc', LinearRegression)"
   ]
  },
  {
   "cell_type": "code",
   "execution_count": 541,
   "metadata": {},
   "outputs": [
    {
     "name": "stdout",
     "output_type": "stream",
     "text": [
      "Zbiór uczący:\n",
      "MSE:  29152360.854019817\n",
      "MAE:  1386.0497467891714\n",
      "R2:  -2173204219.6142626\n",
      "\n",
      "\n",
      "Zbiór testowy:\n",
      "MSE:  42524534.63726714\n",
      "MAE:  1758.941153544882\n",
      "R2:  -4068551626.3200083\n"
     ]
    }
   ],
   "source": [
    "test_model(X,Y,'auc',MLPRegressor)"
   ]
  },
  {
   "cell_type": "markdown",
   "metadata": {},
   "source": [
    "## Specificity"
   ]
  },
  {
   "cell_type": "code",
   "execution_count": 542,
   "metadata": {
    "scrolled": false
   },
   "outputs": [
    {
     "name": "stdout",
     "output_type": "stream",
     "text": [
      "Zbiór uczący:\n",
      "MSE:  0.004676814423390873\n",
      "MAE:  0.040568688135589615\n",
      "R2:  0.9210296609542622\n",
      "\n",
      "\n",
      "Zbiór testowy:\n",
      "MSE:  1073.8561187200987\n",
      "MAE:  4.752308266371329\n",
      "R2:  -17973.88684272299\n"
     ]
    }
   ],
   "source": [
    "test_model(X,Y,'specificity', LinearRegression)"
   ]
  },
  {
   "cell_type": "code",
   "execution_count": 543,
   "metadata": {},
   "outputs": [
    {
     "name": "stdout",
     "output_type": "stream",
     "text": [
      "Zbiór uczący:\n",
      "MSE:  15000711.035994899\n",
      "MAE:  984.802672417621\n",
      "R2:  -254927795.7953381\n",
      "\n",
      "\n",
      "Zbiór testowy:\n",
      "MSE:  23203775.586655222\n",
      "MAE:  1368.5302886634731\n",
      "R2:  -372534167.46784955\n"
     ]
    }
   ],
   "source": [
    "test_model(X,Y,'specificity',MLPRegressor)"
   ]
  },
  {
   "cell_type": "markdown",
   "metadata": {},
   "source": [
    "## Recall"
   ]
  },
  {
   "cell_type": "code",
   "execution_count": 544,
   "metadata": {
    "scrolled": true
   },
   "outputs": [
    {
     "name": "stdout",
     "output_type": "stream",
     "text": [
      "Zbiór uczący:\n",
      "MSE:  0.005918145690984251\n",
      "MAE:  0.035325451856360664\n",
      "R2:  0.8891390796113177\n",
      "\n",
      "\n",
      "Zbiór testowy:\n",
      "MSE:  3.197680428708559\n",
      "MAE:  0.6108677572664558\n",
      "R2:  -54.6793735249331\n"
     ]
    }
   ],
   "source": [
    "test_model(X,Y,'recall', LinearRegression)"
   ]
  },
  {
   "cell_type": "code",
   "execution_count": 545,
   "metadata": {},
   "outputs": [
    {
     "name": "stdout",
     "output_type": "stream",
     "text": [
      "Zbiór uczący:\n",
      "MSE:  38704616.57637348\n",
      "MAE:  1676.7208566008446\n",
      "R2:  -815452358.7204791\n",
      "\n",
      "\n",
      "Zbiór testowy:\n",
      "MSE:  24030845.89112132\n",
      "MAE:  1128.9540650791894\n",
      "R2:  -320326765.38241756\n"
     ]
    }
   ],
   "source": [
    "test_model(X,Y,'recall',MLPRegressor)"
   ]
  },
  {
   "cell_type": "markdown",
   "metadata": {},
   "source": [
    "## Precision"
   ]
  },
  {
   "cell_type": "code",
   "execution_count": 546,
   "metadata": {
    "scrolled": true
   },
   "outputs": [
    {
     "name": "stdout",
     "output_type": "stream",
     "text": [
      "Zbiór uczący:\n",
      "MSE:  0.0008371795933059911\n",
      "MAE:  0.01700824670418347\n",
      "R2:  0.9601489626384284\n",
      "\n",
      "\n",
      "Zbiór testowy:\n",
      "MSE:  2.00841601178535\n",
      "MAE:  0.4738875037812156\n",
      "R2:  -97.35940599013217\n"
     ]
    }
   ],
   "source": [
    "test_model(X,Y,'precision', LinearRegression)"
   ]
  },
  {
   "cell_type": "code",
   "execution_count": 547,
   "metadata": {},
   "outputs": [
    {
     "name": "stdout",
     "output_type": "stream",
     "text": [
      "Zbiór uczący:\n",
      "MSE:  13936990.40326261\n",
      "MAE:  973.5485296085758\n",
      "R2:  -684380734.4865751\n",
      "\n",
      "\n",
      "Zbiór testowy:\n",
      "MSE:  39126845.79679148\n",
      "MAE:  1813.0035536958144\n",
      "R2:  -1725624112.691977\n"
     ]
    }
   ],
   "source": [
    "test_model(X,Y,'precision',MLPRegressor)"
   ]
  },
  {
   "cell_type": "markdown",
   "metadata": {},
   "source": [
    "## F1"
   ]
  },
  {
   "cell_type": "code",
   "execution_count": 548,
   "metadata": {
    "scrolled": true
   },
   "outputs": [
    {
     "name": "stdout",
     "output_type": "stream",
     "text": [
      "Zbiór uczący:\n",
      "MSE:  0.0065941922182681575\n",
      "MAE:  0.03718453381703169\n",
      "R2:  0.8608940078389447\n",
      "\n",
      "\n",
      "Zbiór testowy:\n",
      "MSE:  344.44243636259904\n",
      "MAE:  2.6923813533218954\n",
      "R2:  -9067.094829388068\n"
     ]
    }
   ],
   "source": [
    "test_model(X,Y,'f1', LinearRegression)"
   ]
  },
  {
   "cell_type": "code",
   "execution_count": 549,
   "metadata": {},
   "outputs": [
    {
     "name": "stdout",
     "output_type": "stream",
     "text": [
      "Zbiór uczący:\n",
      "MSE:  15879.823577706104\n",
      "MAE:  33.26049310592073\n",
      "R2:  -384433.75506206\n",
      "\n",
      "\n",
      "Zbiór testowy:\n",
      "MSE:  10261.73352842191\n",
      "MAE:  29.413106026326428\n",
      "R2:  -187506.6449386715\n"
     ]
    }
   ],
   "source": [
    "test_model(X,Y,'f1',MLPRegressor)"
   ]
  },
  {
   "cell_type": "markdown",
   "metadata": {},
   "source": [
    "# Model tylko dla modelu classif.ranger z biblioteki mlr"
   ]
  },
  {
   "cell_type": "code",
   "execution_count": 550,
   "metadata": {},
   "outputs": [],
   "source": [
    "df = create_data_frame(True)"
   ]
  },
  {
   "cell_type": "code",
   "execution_count": 551,
   "metadata": {
    "scrolled": false
   },
   "outputs": [
    {
     "data": {
      "text/html": [
       "<div>\n",
       "<style scoped>\n",
       "    .dataframe tbody tr th:only-of-type {\n",
       "        vertical-align: middle;\n",
       "    }\n",
       "\n",
       "    .dataframe tbody tr th {\n",
       "        vertical-align: top;\n",
       "    }\n",
       "\n",
       "    .dataframe thead th {\n",
       "        text-align: right;\n",
       "    }\n",
       "</style>\n",
       "<table border=\"1\" class=\"dataframe\">\n",
       "  <thead>\n",
       "    <tr style=\"text-align: right;\">\n",
       "      <th></th>\n",
       "      <th>number_of_features</th>\n",
       "      <th>number_of_instances</th>\n",
       "      <th>number_of_missing_values</th>\n",
       "      <th>number_of_instances_with_missing_values</th>\n",
       "      <th>acc</th>\n",
       "      <th>auc</th>\n",
       "      <th>specificity</th>\n",
       "      <th>recall</th>\n",
       "      <th>precision</th>\n",
       "      <th>f1</th>\n",
       "      <th>added_by</th>\n",
       "      <th>library</th>\n",
       "      <th>model_name</th>\n",
       "      <th>num.trees</th>\n",
       "    </tr>\n",
       "  </thead>\n",
       "  <tbody>\n",
       "    <tr>\n",
       "      <th>0</th>\n",
       "      <td>17</td>\n",
       "      <td>45211</td>\n",
       "      <td>0</td>\n",
       "      <td>0</td>\n",
       "      <td>0.9017</td>\n",
       "      <td>0.9277</td>\n",
       "      <td>0.2732</td>\n",
       "      <td>0.985</td>\n",
       "      <td>0.911</td>\n",
       "      <td>0.9465</td>\n",
       "      <td>WojciechKretowicz</td>\n",
       "      <td>mlr</td>\n",
       "      <td>classif.ranger</td>\n",
       "      <td>1000</td>\n",
       "    </tr>\n",
       "    <tr>\n",
       "      <th>1</th>\n",
       "      <td>17</td>\n",
       "      <td>45211</td>\n",
       "      <td>0</td>\n",
       "      <td>0</td>\n",
       "      <td>0.9075</td>\n",
       "      <td>0.9328</td>\n",
       "      <td>0.4643</td>\n",
       "      <td>0.9662</td>\n",
       "      <td>0.9316</td>\n",
       "      <td>0.9486</td>\n",
       "      <td>WojciechKretowicz</td>\n",
       "      <td>mlr</td>\n",
       "      <td>classif.ranger</td>\n",
       "      <td>500</td>\n",
       "    </tr>\n",
       "    <tr>\n",
       "      <th>2</th>\n",
       "      <td>17</td>\n",
       "      <td>45211</td>\n",
       "      <td>0</td>\n",
       "      <td>0</td>\n",
       "      <td>0.8896</td>\n",
       "      <td>0.9099</td>\n",
       "      <td>0.0707</td>\n",
       "      <td>0.9981</td>\n",
       "      <td>0.8902</td>\n",
       "      <td>0.9411</td>\n",
       "      <td>WojciechKretowicz</td>\n",
       "      <td>mlr</td>\n",
       "      <td>classif.ranger</td>\n",
       "      <td>500</td>\n",
       "    </tr>\n",
       "    <tr>\n",
       "      <th>3</th>\n",
       "      <td>17</td>\n",
       "      <td>45211</td>\n",
       "      <td>0</td>\n",
       "      <td>0</td>\n",
       "      <td>0.9077</td>\n",
       "      <td>0.933</td>\n",
       "      <td>0.4649</td>\n",
       "      <td>0.9663</td>\n",
       "      <td>0.9317</td>\n",
       "      <td>0.9487</td>\n",
       "      <td>WojciechKretowicz</td>\n",
       "      <td>mlr</td>\n",
       "      <td>classif.ranger</td>\n",
       "      <td>1000</td>\n",
       "    </tr>\n",
       "    <tr>\n",
       "      <th>4</th>\n",
       "      <td>17</td>\n",
       "      <td>45211</td>\n",
       "      <td>0</td>\n",
       "      <td>0</td>\n",
       "      <td>0.8896</td>\n",
       "      <td>0.9101</td>\n",
       "      <td>0.0713</td>\n",
       "      <td>0.998</td>\n",
       "      <td>0.8902</td>\n",
       "      <td>0.9411</td>\n",
       "      <td>WojciechKretowicz</td>\n",
       "      <td>mlr</td>\n",
       "      <td>classif.ranger</td>\n",
       "      <td>1000</td>\n",
       "    </tr>\n",
       "  </tbody>\n",
       "</table>\n",
       "</div>"
      ],
      "text/plain": [
       "  number_of_features number_of_instances number_of_missing_values  \\\n",
       "0                 17               45211                        0   \n",
       "1                 17               45211                        0   \n",
       "2                 17               45211                        0   \n",
       "3                 17               45211                        0   \n",
       "4                 17               45211                        0   \n",
       "\n",
       "  number_of_instances_with_missing_values     acc     auc specificity  recall  \\\n",
       "0                                       0  0.9017  0.9277      0.2732   0.985   \n",
       "1                                       0  0.9075  0.9328      0.4643  0.9662   \n",
       "2                                       0  0.8896  0.9099      0.0707  0.9981   \n",
       "3                                       0  0.9077   0.933      0.4649  0.9663   \n",
       "4                                       0  0.8896  0.9101      0.0713   0.998   \n",
       "\n",
       "  precision      f1           added_by library      model_name num.trees  \n",
       "0     0.911  0.9465  WojciechKretowicz     mlr  classif.ranger      1000  \n",
       "1    0.9316  0.9486  WojciechKretowicz     mlr  classif.ranger       500  \n",
       "2    0.8902  0.9411  WojciechKretowicz     mlr  classif.ranger       500  \n",
       "3    0.9317  0.9487  WojciechKretowicz     mlr  classif.ranger      1000  \n",
       "4    0.8902  0.9411  WojciechKretowicz     mlr  classif.ranger      1000  "
      ]
     },
     "execution_count": 551,
     "metadata": {},
     "output_type": "execute_result"
    }
   ],
   "source": [
    "df.head()"
   ]
  },
  {
   "cell_type": "code",
   "execution_count": 552,
   "metadata": {},
   "outputs": [
    {
     "data": {
      "text/plain": [
       "(59, 14)"
      ]
     },
     "execution_count": 552,
     "metadata": {},
     "output_type": "execute_result"
    }
   ],
   "source": [
    "df.shape"
   ]
  },
  {
   "cell_type": "markdown",
   "metadata": {},
   "source": [
    "## Mało danych"
   ]
  },
  {
   "cell_type": "code",
   "execution_count": 553,
   "metadata": {
    "scrolled": true
   },
   "outputs": [],
   "source": [
    "X = df.drop(columns=['acc','auc','specificity','recall','precision','f1'])\n",
    "X=pd.get_dummies(X, columns=['added_by','library','model_name'])\n",
    "Y = df.loc[:, ['acc','auc','specificity','recall','precision','f1']]"
   ]
  },
  {
   "cell_type": "markdown",
   "metadata": {},
   "source": [
    "## ACC"
   ]
  },
  {
   "cell_type": "code",
   "execution_count": 554,
   "metadata": {
    "scrolled": false
   },
   "outputs": [
    {
     "name": "stdout",
     "output_type": "stream",
     "text": [
      "Zbiór uczący:\n",
      "MSE:  5.029153545897084e-06\n",
      "MAE:  0.0009552118951190194\n",
      "R2:  0.9997754299491958\n",
      "\n",
      "\n",
      "Zbiór testowy:\n",
      "MSE:  1.2808708017600887e-05\n",
      "MAE:  0.0018078669214350862\n",
      "R2:  0.9996619900634137\n"
     ]
    }
   ],
   "source": [
    "test_model(X,Y,'acc',LinearRegression)"
   ]
  },
  {
   "cell_type": "code",
   "execution_count": 555,
   "metadata": {},
   "outputs": [
    {
     "name": "stdout",
     "output_type": "stream",
     "text": [
      "Zbiór uczący:\n",
      "MSE:  23.123491623640263\n",
      "MAE:  3.537331353596409\n",
      "R2:  -1081.9012033793356\n",
      "\n",
      "\n",
      "Zbiór testowy:\n",
      "MSE:  128.1917933112754\n",
      "MAE:  6.961524404439076\n",
      "R2:  -3318.8302715203363\n"
     ]
    }
   ],
   "source": [
    "test_model(X,Y,'acc',MLPRegressor)"
   ]
  },
  {
   "cell_type": "markdown",
   "metadata": {},
   "source": [
    "## AUC"
   ]
  },
  {
   "cell_type": "code",
   "execution_count": 556,
   "metadata": {},
   "outputs": [
    {
     "name": "stdout",
     "output_type": "stream",
     "text": [
      "Zbiór uczący:\n",
      "MSE:  1.8497630857841368e-05\n",
      "MAE:  0.0019213697721984187\n",
      "R2:  0.9962138938255193\n",
      "\n",
      "\n",
      "Zbiór testowy:\n",
      "MSE:  3.3402173493209378e-06\n",
      "MAE:  0.0010156323436067093\n",
      "R2:  0.9978936504255268\n"
     ]
    }
   ],
   "source": [
    "test_model(X,Y,'auc',LinearRegression)"
   ]
  },
  {
   "cell_type": "code",
   "execution_count": 557,
   "metadata": {},
   "outputs": [
    {
     "name": "stdout",
     "output_type": "stream",
     "text": [
      "Zbiór uczący:\n",
      "MSE:  2.5898356965756633\n",
      "MAE:  1.286358209124387\n",
      "R2:  -529.0114480681306\n",
      "\n",
      "\n",
      "Zbiór testowy:\n",
      "MSE:  25.474780203378806\n",
      "MAE:  3.082806114262639\n",
      "R2:  -16410.184802666477\n"
     ]
    }
   ],
   "source": [
    "test_model(X,Y,'auc',MLPRegressor)"
   ]
  },
  {
   "cell_type": "markdown",
   "metadata": {},
   "source": [
    "## Specificity"
   ]
  },
  {
   "cell_type": "code",
   "execution_count": 558,
   "metadata": {
    "scrolled": true
   },
   "outputs": [
    {
     "name": "stdout",
     "output_type": "stream",
     "text": [
      "Zbiór uczący:\n",
      "MSE:  0.002497740819935475\n",
      "MAE:  0.021311226382288415\n",
      "R2:  0.9581822274839544\n",
      "\n",
      "\n",
      "Zbiór testowy:\n",
      "MSE:  0.008468634195289227\n",
      "MAE:  0.04843152834125462\n",
      "R2:  0.8811421170009277\n"
     ]
    }
   ],
   "source": [
    "test_model(X,Y,'specificity',LinearRegression)"
   ]
  },
  {
   "cell_type": "code",
   "execution_count": 559,
   "metadata": {},
   "outputs": [
    {
     "name": "stdout",
     "output_type": "stream",
     "text": [
      "Zbiór uczący:\n",
      "MSE:  105865.61364747501\n",
      "MAE:  287.1426466305721\n",
      "R2:  -1494015.1421320164\n",
      "\n",
      "\n",
      "Zbiór testowy:\n",
      "MSE:  85712.81015613582\n",
      "MAE:  238.51248534045894\n",
      "R2:  -2760606.486372466\n"
     ]
    }
   ],
   "source": [
    "test_model(X,Y,'specificity',MLPRegressor)"
   ]
  },
  {
   "cell_type": "markdown",
   "metadata": {},
   "source": [
    "## Recall"
   ]
  },
  {
   "cell_type": "code",
   "execution_count": 560,
   "metadata": {
    "scrolled": true
   },
   "outputs": [
    {
     "name": "stdout",
     "output_type": "stream",
     "text": [
      "Zbiór uczący:\n",
      "MSE:  2.2886057684783454e-05\n",
      "MAE:  0.0019783980607285773\n",
      "R2:  0.9971540662346402\n",
      "\n",
      "\n",
      "Zbiór testowy:\n",
      "MSE:  4.4477096490933083e-05\n",
      "MAE:  0.0026533980607284734\n",
      "R2:  0.373558492006533\n"
     ]
    }
   ],
   "source": [
    "test_model(X,Y,'recall',LinearRegression)"
   ]
  },
  {
   "cell_type": "code",
   "execution_count": 561,
   "metadata": {},
   "outputs": [
    {
     "name": "stdout",
     "output_type": "stream",
     "text": [
      "Zbiór uczący:\n",
      "MSE:  2.9134153436281394\n",
      "MAE:  1.1795491049492672\n",
      "R2:  -362.92591824770216\n",
      "\n",
      "\n",
      "Zbiór testowy:\n",
      "MSE:  54114.08338299809\n",
      "MAE:  104.94985195306181\n",
      "R2:  -3085726859.676519\n"
     ]
    }
   ],
   "source": [
    "test_model(X,Y,'recall',MLPRegressor)"
   ]
  },
  {
   "cell_type": "markdown",
   "metadata": {},
   "source": [
    "## Precision"
   ]
  },
  {
   "cell_type": "code",
   "execution_count": 562,
   "metadata": {
    "scrolled": true
   },
   "outputs": [
    {
     "name": "stdout",
     "output_type": "stream",
     "text": [
      "Zbiór uczący:\n",
      "MSE:  5.775633548426203e-05\n",
      "MAE:  0.003223314321741995\n",
      "R2:  0.9915550648515089\n",
      "\n",
      "\n",
      "Zbiór testowy:\n",
      "MSE:  3.4655607253764643e-07\n",
      "MAE:  0.0005178818565405363\n",
      "R2:  0.9994228917014802\n"
     ]
    }
   ],
   "source": [
    "test_model(X,Y,'precision', LinearRegression)"
   ]
  },
  {
   "cell_type": "code",
   "execution_count": 563,
   "metadata": {},
   "outputs": [
    {
     "name": "stdout",
     "output_type": "stream",
     "text": [
      "Zbiór uczący:\n",
      "MSE:  78680.4944128184\n",
      "MAE:  219.7011446336973\n",
      "R2:  -12032002.72777321\n",
      "\n",
      "\n",
      "Zbiór testowy:\n",
      "MSE:  12421.439647824009\n",
      "MAE:  105.17305980238879\n",
      "R2:  -41394738.90428329\n"
     ]
    }
   ],
   "source": [
    "test_model(X,Y,'precision',MLPRegressor)"
   ]
  },
  {
   "cell_type": "markdown",
   "metadata": {},
   "source": [
    "## F1"
   ]
  },
  {
   "cell_type": "code",
   "execution_count": 564,
   "metadata": {},
   "outputs": [
    {
     "name": "stdout",
     "output_type": "stream",
     "text": [
      "Zbiór uczący:\n",
      "MSE:  1.2907105901372573e-07\n",
      "MAE:  0.00021430288331897678\n",
      "R2:  0.9999822472166804\n",
      "\n",
      "\n",
      "Zbiór testowy:\n",
      "MSE:  7.5383395538478615e-06\n",
      "MAE:  0.0015203306386417758\n",
      "R2:  0.9724098848761232\n"
     ]
    }
   ],
   "source": [
    "test_model(X,Y,'f1', LinearRegression)"
   ]
  },
  {
   "cell_type": "code",
   "execution_count": 565,
   "metadata": {},
   "outputs": [
    {
     "name": "stdout",
     "output_type": "stream",
     "text": [
      "Zbiór uczący:\n",
      "MSE:  394594.74908388784\n",
      "MAE:  379.4616325745811\n",
      "R2:  -101647679.96777295\n",
      "\n",
      "\n",
      "Zbiór testowy:\n",
      "MSE:  252140.55864978852\n",
      "MAE:  293.822507970808\n",
      "R2:  -25034904.8285209\n"
     ]
    }
   ],
   "source": [
    "test_model(X,Y,'f1',MLPRegressor)"
   ]
  },
  {
   "cell_type": "markdown",
   "metadata": {},
   "source": [
    "# Wnioski"
   ]
  },
  {
   "cell_type": "markdown",
   "metadata": {},
   "source": [
    "## Przypadek ogólny\n",
    "\n",
    "Z uwagi na to, że różne modele mają różne parametry, to rozpatrując zbiór danych całościowo nie można sie do tych parametrów odwołać. Wtedy też wyniki przewidywań miar są dość słabe. Regresje liniowa z uwagi na niewielką liczbę danych sprawuje się najlepiej.\n",
    "\n",
    "## Przypadek dla classif.ranger\n",
    "\n",
    "Gdy ograniczymy zbiór jedynie do jednego modelu - classif.ranger, wtedy jakość przewidywanie drastycznie wzrasta, ale pojawia się problem z przeuczeniem i określeniem, jak bardzo poprawne wyniki dostajemy."
   ]
  }
 ],
 "metadata": {
  "kernelspec": {
   "display_name": "Python 3",
   "language": "python",
   "name": "python3"
  },
  "language_info": {
   "codemirror_mode": {
    "name": "ipython",
    "version": 3
   },
   "file_extension": ".py",
   "mimetype": "text/x-python",
   "name": "python",
   "nbconvert_exporter": "python",
   "pygments_lexer": "ipython3",
   "version": "3.6.7"
  }
 },
 "nbformat": 4,
 "nbformat_minor": 2
}
