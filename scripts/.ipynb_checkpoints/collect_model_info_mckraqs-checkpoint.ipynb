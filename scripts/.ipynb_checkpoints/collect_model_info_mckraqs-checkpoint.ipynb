{
 "cells": [
  {
   "cell_type": "code",
   "execution_count": 2,
   "metadata": {},
   "outputs": [],
   "source": [
    "import os\n",
    "import pandas as pd\n",
    "import json\n",
    "import time"
   ]
  },
  {
   "cell_type": "code",
   "execution_count": 9,
   "metadata": {},
   "outputs": [],
   "source": [
    "df = pd.DataFrame()\n",
    "for dataset in os.listdir(\"./../models\"):\n",
    "    if os.path.isdir(dataset) and not dataset.startswith(\".\"):\n",
    "        for task in os.listdir(dataset):\n",
    "            if os.path.isdir(os.path.join(dataset, task)) and not task.startswith(\".\"):\n",
    "                with open(os.path.join(dataset, \"dataset.json\"), 'r') as f:\n",
    "                    dataset_info = json.load(f)\n",
    "                    dataset_info = dict([(key, dataset_info[0][key]) for key in \n",
    "                                         ['number_of_features',\n",
    "                                          'number_of_instances',\n",
    "                                          'number_of_missing_values',\n",
    "                                          'number_of_instances_with_missing_values']])\n",
    "                    if not task.startswith(\"classification\"):\n",
    "                        continue\n",
    "                    for model in os.listdir(os.path.join(dataset, task)):\n",
    "                        try:\n",
    "                            if os.path.isdir(os.path.join(dataset, task, model)):\n",
    "                                with open(os.path.join(dataset, task, model, \"audit.json\")) as fa:\n",
    "                                    audit_info = json.load(fa)\n",
    "                                    audit_info = dict([(metrics, audit_info[0]['performance'][metrics]) \n",
    "                                                       for metrics in ['acc', \n",
    "                                                                       'auc',\n",
    "                                                                       'specificity',\n",
    "                                                                       'recall', \n",
    "                                                                       'precision',\n",
    "                                                                       'f1']])\n",
    "                                with open(os.path.join(dataset, task, model, \"model.json\")) as fm:\n",
    "                                    model_info = json.load(fm)\n",
    "                                    model_info = dict([(key, model_info[0][key]) \n",
    "                                                      for key in ['id',\n",
    "                                                                  'library',\n",
    "                                                                  'model_name']])\n",
    "                                model = dataset_info\n",
    "                                model.update(audit_info)\n",
    "                                model.update(model_info)\n",
    "                                model = pd.DataFrame.from_dict(model, orient='index').T\n",
    "                                print(model)\n",
    "                                df = df.append(model)\n",
    "                        except:\n",
    "                            continue"
   ]
  }
 ],
 "metadata": {
  "kernelspec": {
   "display_name": "Python 3",
   "language": "python",
   "name": "python3"
  },
  "language_info": {
   "codemirror_mode": {
    "name": "ipython",
    "version": 3
   },
   "file_extension": ".py",
   "mimetype": "text/x-python",
   "name": "python",
   "nbconvert_exporter": "python",
   "pygments_lexer": "ipython3",
   "version": "3.7.2"
  }
 },
 "nbformat": 4,
 "nbformat_minor": 2
}
